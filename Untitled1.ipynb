{
 "cells": [
  {
   "cell_type": "code",
   "execution_count": 1,
   "id": "08c63493",
   "metadata": {},
   "outputs": [],
   "source": [
    "import pandas as pd"
   ]
  },
  {
   "cell_type": "code",
   "execution_count": 2,
   "id": "ae753d4f",
   "metadata": {},
   "outputs": [],
   "source": [
    "crime_data_to_load=r\"C:\\Users\\JamesGarner\\Desktop\\BootCamp\\du-virt-data-pt-12-2021-u-b-1\\01 - Lesson Plans\\04-Pandas\\2\\Activities\\02-Evr_PortlandCrime\\Unsolved\\Resources\\crime_incident_data2017.csv\"\n"
   ]
  },
  {
   "cell_type": "code",
   "execution_count": null,
   "id": "befea321",
   "metadata": {},
   "outputs": [],
   "source": [
    "crime_data_df = pd.read_csv(school_data_to_load)"
   ]
  }
 ],
 "metadata": {
  "kernelspec": {
   "display_name": "PythonData",
   "language": "python",
   "name": "pythondata"
  },
  "language_info": {
   "codemirror_mode": {
    "name": "ipython",
    "version": 3
   },
   "file_extension": ".py",
   "mimetype": "text/x-python",
   "name": "python",
   "nbconvert_exporter": "python",
   "pygments_lexer": "ipython3",
   "version": "3.9.7"
  }
 },
 "nbformat": 4,
 "nbformat_minor": 5
}
